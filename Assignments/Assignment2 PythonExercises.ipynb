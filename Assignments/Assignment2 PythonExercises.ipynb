{
  "nbformat": 4,
  "nbformat_minor": 0,
  "metadata": {
    "colab": {
      "provenance": []
    },
    "kernelspec": {
      "name": "python3",
      "display_name": "Python 3"
    },
    "language_info": {
      "name": "python"
    }
  },
  "cells": [
    {
      "cell_type": "markdown",
      "source": [
        "Emanuel Lira Cordero\n",
        "ID:1997230\n",
        "IB"
      ],
      "metadata": {
        "id": "SQGnP0K4EmDz"
      }
    },
    {
      "cell_type": "code",
      "source": [
        "import random\n",
        "\n",
        "def choose_word():\n",
        "    word_list = [\"engineering\", \"artificial\", \"fime\", \"uanl\", \"Data\", \"program\"]\n",
        "    return random.choice(word_list)\n",
        "\n",
        "def display_word(word, guessed_letters):\n",
        "    displayed_word = \"\"\n",
        "    for letter in word:\n",
        "        if letter in guessed_letters:\n",
        "            displayed_word += letter\n",
        "        else:\n",
        "            displayed_word += \"_\"\n",
        "    return displayed_word\n",
        "\n",
        "def hangman():\n",
        "    max_attempts = 6\n",
        "    guessed_letters = []\n",
        "    word = choose_word()\n",
        "    attempts = 0\n",
        "\n",
        "    print(\"Welcome to Hangman!\")\n",
        "    print(\"Try to guess the word.\")\n",
        "\n",
        "    while True:\n",
        "        print(\"\\n\" + display_word(word, guessed_letters))\n",
        "        guess = input(\"Guess a letter: \").lower()\n",
        "\n",
        "        if len(guess) != 1 or not guess.isalpha():\n",
        "            print(\"Please enter a single letter.\")\n",
        "            continue\n",
        "\n",
        "        if guess in guessed_letters:\n",
        "            print(\"You already guessed that letter.\")\n",
        "            continue\n",
        "\n",
        "        guessed_letters.append(guess)\n",
        "\n",
        "        if guess not in word:\n",
        "            attempts += 1\n",
        "            print(\"Incorrect guess. Attempts left:\", max_attempts - attempts)\n",
        "            if attempts >= max_attempts:\n",
        "                print(\"You ran out of attempts! The word was:\", word)\n",
        "                break\n",
        "        else:\n",
        "            if display_word(word, guessed_letters) == word:\n",
        "                print(\"Congratulations! You guessed the word:\", word)\n",
        "                break\n",
        "\n",
        "if __name__ == \"__main__\":\n",
        "    hangman()"
      ],
      "metadata": {
        "id": "F6rubNaKj4z2",
        "colab": {
          "base_uri": "https://localhost:8080/"
        },
        "outputId": "4add28f3-1dd7-452a-8757-24c2874b6c5f"
      },
      "execution_count": 1,
      "outputs": [
        {
          "output_type": "stream",
          "name": "stdout",
          "text": [
            "Welcome to Hangman!\n",
            "Try to guess the word.\n",
            "\n",
            "____\n",
            "Guess a letter: f\n",
            "Incorrect guess. Attempts left: 5\n",
            "\n",
            "____\n",
            "Guess a letter: u\n",
            "\n",
            "u___\n",
            "Guess a letter: a\n",
            "\n",
            "ua__\n",
            "Guess a letter: n\n",
            "\n",
            "uan_\n",
            "Guess a letter: l\n",
            "Congratulations! You guessed the word: uanl\n"
          ]
        }
      ]
    },
    {
      "cell_type": "code",
      "execution_count": 2,
      "metadata": {
        "id": "7547Lc65j2ve",
        "colab": {
          "base_uri": "https://localhost:8080/"
        },
        "outputId": "3c9b8355-8e68-4b3d-ff5e-383d9197b302"
      },
      "outputs": [
        {
          "output_type": "stream",
          "name": "stdout",
          "text": [
            "Enter the text to analyze: Hola esto es una prueba para inteligencia artificial hola amigos\n",
            "Analysis of the text:\n",
            "Number of words: 10\n",
            "Number of sentences: 1\n",
            "Number of paragraphs: 1\n",
            "Average word length: 5.5\n",
            "Most common words:\n",
            "hola: 2\n",
            "esto: 1\n",
            "es: 1\n",
            "una: 1\n",
            "prueba: 1\n",
            "para: 1\n",
            "inteligencia: 1\n",
            "artificial: 1\n",
            "amigos: 1\n"
          ]
        }
      ],
      "source": [
        "import re\n",
        "from collections import Counter\n",
        "\n",
        "def count_words(text):\n",
        "    words = re.findall(r'\\b\\w+\\b', text)\n",
        "    return len(words)\n",
        "\n",
        "def count_sentences(text):\n",
        "    sentences = re.split(r'[.!?]+', text)\n",
        "    return len(sentences)\n",
        "\n",
        "def count_paragraphs(text):\n",
        "    paragraphs = text.split('\\n\\n')\n",
        "    return len(paragraphs)\n",
        "\n",
        "def average_word_length(text):\n",
        "    words = re.findall(r'\\b\\w+\\b', text)\n",
        "    total_length = sum(len(word) for word in words)\n",
        "    return total_length / len(words) if len(words) > 0 else 0\n",
        "\n",
        "def most_common_words(text, num_words=10):\n",
        "    words = re.findall(r'\\b\\w+\\b', text.lower())\n",
        "    word_counts = Counter(words)\n",
        "    return word_counts.most_common(num_words)\n",
        "\n",
        "if __name__ == \"__main__\":\n",
        "    text = input(\"Enter the text to analyze: \")\n",
        "\n",
        "    num_words = count_words(text)\n",
        "    num_sentences = count_sentences(text)\n",
        "    num_paragraphs = count_paragraphs(text)\n",
        "    avg_word_length = average_word_length(text)\n",
        "    common_words = most_common_words(text)\n",
        "\n",
        "    print(\"Analysis of the text:\")\n",
        "    print(\"Number of words:\", num_words)\n",
        "    print(\"Number of sentences:\", num_sentences)\n",
        "    print(\"Number of paragraphs:\", num_paragraphs)\n",
        "    print(\"Average word length:\", avg_word_length)\n",
        "    print(\"Most common words:\")\n",
        "    for word, count in common_words:\n",
        "        print(f\"{word}: {count}\")"
      ]
    },
    {
      "cell_type": "code",
      "source": [
        "import random\n",
        "\n",
        "def guess_number():\n",
        "    target_number = random.randint(1, 100)\n",
        "    print(\"I select a number from 1 to 100. Can you guess what it is?\")\n",
        "\n",
        "    while True:\n",
        "        guess = input(\"Enter your guess: \")\n",
        "\n",
        "        if not guess.isdigit():\n",
        "            print(\"Please enter a valid number.\")\n",
        "            continue\n",
        "\n",
        "        guess = int(guess)\n",
        "\n",
        "        if guess < 1 or guess > 100:\n",
        "            print(\"Please guess a number between 1 and 100.\")\n",
        "            continue\n",
        "\n",
        "        if guess < target_number:\n",
        "            print(\"Too low, please yry guessing a higher number.\")\n",
        "        elif guess > target_number:\n",
        "            print(\"Too high, please try guessing a lower number.\")\n",
        "        else:\n",
        "            print(\"Congratulations! You guessed the number\", target_number)\n",
        "            break\n",
        "\n",
        "if __name__ == \"__main__\":\n",
        "    guess_number()"
      ],
      "metadata": {
        "id": "ae9ty6m2j5h0",
        "colab": {
          "base_uri": "https://localhost:8080/"
        },
        "outputId": "2aa7e329-1dd5-4f3b-bff7-409088fcf663"
      },
      "execution_count": 3,
      "outputs": [
        {
          "output_type": "stream",
          "name": "stdout",
          "text": [
            "I select a number from 1 to 100. Can you guess what it is?\n",
            "Enter your guess: 50\n",
            "Too low, please yry guessing a higher number.\n",
            "Enter your guess: 70\n",
            "Too low, please yry guessing a higher number.\n",
            "Enter your guess: 80\n",
            "Too low, please yry guessing a higher number.\n",
            "Enter your guess: 90\n",
            "Too high, please try guessing a lower number.\n",
            "Enter your guess: 88\n",
            "Too low, please yry guessing a higher number.\n",
            "Enter your guess: 89\n",
            "Congratulations! You guessed the number 89\n"
          ]
        }
      ]
    }
  ]
}